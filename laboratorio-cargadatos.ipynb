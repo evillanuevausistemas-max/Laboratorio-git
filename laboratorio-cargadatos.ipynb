{
 "cells": [
  {
   "cell_type": "markdown",
   "id": "54bfc317",
   "metadata": {},
   "source": [
    "# TALLER 4\n",
    "\n",
    "## Cargar CSV a MySQL con carga inicial e incremental"
   ]
  },
  {
   "cell_type": "code",
   "execution_count": null,
   "id": "1d7ea927",
   "metadata": {},
   "outputs": [
    {
     "ename": "",
     "evalue": "",
     "output_type": "error",
     "traceback": [
      "\u001b[1;31mRunning cells with 'Python 3.11.9' requires the ipykernel package.\n",
      "\u001b[1;31mInstall 'ipykernel' into the Python environment. \n",
      "\u001b[1;31mCommand: 'c:/Users/Estudiante/AppData/Local/Microsoft/WindowsApps/python3.11.exe -m pip install ipykernel -U --user --force-reinstall'"
     ]
    }
   ],
   "source": [
    "import os\n",
    "import pandas as pd\n",
    "from sqlalchemy import create_engine,text\n",
    "from dotenv import load_dotenv\n",
    "\n",
    "load_dotenv()\n",
    "\n",
    "DB_HOST = os.getenv(\"DB_HOST\")\n",
    "DB_PORT = os.getenv(\"DB_PORT\")\n",
    "DB_NAME = os.getenv(\"DB_NAME\")\n",
    "DB_USER = os.getenv(\"DB_USER\")\n",
    "DB_PASSWORD = os.getenv(\"DB_PASSWORD\")\n",
    "\n",
    "engine = create_engine(f\"mysql+pymysql://{DB_USER}:{DB_PASSWORD}@{DB_HOST}:{DB_PORT}/{DB_NAME}\")\n",
    "\n",
    "ddl = \"\"\"\n",
    "CREATE TABLE IF NOT EXISTS laboratorio (\n",
    "    laboratorio_id INT PRIMARY KEY,\n",
    "    cliente varchar(100),\n",
    "    producto varchar(100),\n",
    "    categoria varchar(100),\n",
    "    precio_unitario decimal(10,2),\n",
    "    unidades int,\n",
    "    fecha DATE\n",
    ");\n",
    "\n",
    "\"\"\"\n",
    "with engine.connect() as conn:\n",
    "    conn.execute(text(ddl))\n",
    "    \n",
    "    print(\"Tabla creada exitosamente\")"
   ]
  },
  {
   "cell_type": "code",
   "execution_count": 20,
   "id": "06e5ae68",
   "metadata": {},
   "outputs": [
    {
     "ename": "SyntaxError",
     "evalue": "cannot assign to literal (1605579632.py, line 6)",
     "output_type": "error",
     "traceback": [
      "  \u001b[36mCell\u001b[39m\u001b[36m \u001b[39m\u001b[32mIn[20]\u001b[39m\u001b[32m, line 6\u001b[39m\n\u001b[31m    \u001b[39m\u001b[31mdf = [\"unidades\"] = pd. to_numeric(df[\"unidades\"], errors=\"coerce\")\u001b[39m\n          ^\n\u001b[31mSyntaxError\u001b[39m\u001b[31m:\u001b[39m cannot assign to literal\n"
     ]
    }
   ],
   "source": [
    "# Lee CSV \n",
    "DF = PD.READ_CSV(\"VENTAS.CSV\")\n",
    "\n",
    "#Limpieza \n",
    "df[\"precio_unitario\"] = pd.to_numeric(df[\"precio_unitario\"], errors=\"coerce\")\n",
    "df = [\"unidades\"] = pd. to_numeric(df[\"unidades\"], errors=\"coerce\")\n",
    "df = [\"fecha\"] = pd.to_datetime(df[\"fecha\"], errors=\"coerce\").dt.date\n"
   ]
  },
  {
   "cell_type": "code",
   "execution_count": 19,
   "id": "3ab96c6b",
   "metadata": {},
   "outputs": [
    {
     "ename": "NameError",
     "evalue": "name 'engine' is not defined",
     "output_type": "error",
     "traceback": [
      "\u001b[31m---------------------------------------------------------------------------\u001b[39m",
      "\u001b[31mNameError\u001b[39m                                 Traceback (most recent call last)",
      "\u001b[36mCell\u001b[39m\u001b[36m \u001b[39m\u001b[32mIn[19]\u001b[39m\u001b[32m, line 2\u001b[39m\n\u001b[32m      1\u001b[39m \u001b[38;5;66;03m#Carga inicial: reemplazar contenido de la tabla\u001b[39;00m\n\u001b[32m----> \u001b[39m\u001b[32m2\u001b[39m \u001b[38;5;28;01mwith\u001b[39;00m \u001b[43mengine\u001b[49m.begin() \u001b[38;5;28;01mas\u001b[39;00m conn:\n\u001b[32m      3\u001b[39m     coon.execute(text(\u001b[33m\"\u001b[39m\u001b[33mTRUNCATE TABLE ventas\u001b[39m\u001b[33m\"\u001b[39m))\n\u001b[32m      4\u001b[39m     df.to_sql(\u001b[33m\"\u001b[39m\u001b[33mventas\u001b[39m\u001b[33m\"\u001b[39m, con=engine, if_exist=\u001b[33m\"\u001b[39m\u001b[33mappend\u001b[39m\u001b[33m\"\u001b[39m, index=\u001b[38;5;28;01mFalse\u001b[39;00m, method=\u001b[33m\"\u001b[39m\u001b[33mmulti\u001b[39m\u001b[33m\"\u001b[39m, chunksise=\u001b[32m1000\u001b[39m)\n",
      "\u001b[31mNameError\u001b[39m: name 'engine' is not defined"
     ]
    }
   ],
   "source": [
    "#Carga inicial: reemplazar contenido de la tabla\n",
    "with engine.begin() as conn:\n",
    "    coon.execute(text(\"TRUNCATE TABLE ventas\"))\n",
    "    df.to_sql(\"ventas\", con=engine, if_exist=\"append\", index=False, method=\"multi\", chunksise=1000)\n",
    "    \n",
    "    print(f\"Datos cargados eba la tabla de ventas. Total registros: {len(df)}\")\n",
    "    "
   ]
  },
  {
   "cell_type": "code",
   "execution_count": null,
   "id": "1d074f5b",
   "metadata": {},
   "outputs": [],
   "source": [
    "from sqlalchemy import text\n",
    "\n",
    "df_inc = pd.read_csv(\"ventas_incrementales.csv\")\n",
    "df_inc[\"Precio unitario\"] = pd.to_numeric(df_inc[\"Precio unitario\"], errors=\"coerce\")\n",
    "df_inc[\"unidades\"] = pd.to_numeric (df_inc[\"unidades\"], errors=\"coerce\")\n",
    "df_inc[\"fecha\"] = pd.to_datetime(df_inc[\"fecha\"], errors=\"coerce\").dt.date\n",
    "\n",
    "#Convertimos lista de diccionarios para ejecuciones masivas\n",
    "records = df_inc.to_direct(orient=\"records\")\n",
    "\n",
    "upsert_sql = text(\"\"\"\n",
    "    \n",
    ")"
   ]
  }
 ],
 "metadata": {
  "kernelspec": {
   "display_name": "Python 3",
   "language": "python",
   "name": "python3"
  },
  "language_info": {
   "codemirror_mode": {
    "name": "ipython",
    "version": 3
   },
   "file_extension": ".py",
   "mimetype": "text/x-python",
   "name": "python",
   "nbconvert_exporter": "python",
   "pygments_lexer": "ipython3",
   "version": "3.11.9"
  }
 },
 "nbformat": 4,
 "nbformat_minor": 5
}
